{
 "cells": [
  {
   "cell_type": "markdown",
   "metadata": {},
   "source": [
    "Parfait ! Maintenant je vois tous vos serveurs MCP installés ! 🎯\n",
    "\n",
    "## **Vos serveurs MCP actifs :**\n",
    "\n",
    "### **📁 Gestion de fichiers :**\n",
    "- **`filesystem`** - C'est celui qui fournit les outils `write_file`, `read_file`, etc.\n",
    "\n",
    "### **🗄️ Base de données :**\n",
    "- **`sqlite`** - Fournit `read_query`, `write_query`, `create_table`, etc.\n",
    "\n",
    "### **🌐 Web et recherche :**\n",
    "- **`fetch`** - Fournit `web_fetch` pour récupérer des pages web\n",
    "- **`everything`** - Serveur \"tout-en-un\" avec plein d'outils\n",
    "\n",
    "### **☁️ Météo :**\n",
    "- **`mcp-server-weather`** - Fournit `get_forecast`, `get_alerts`\n",
    "\n",
    "### **📚 Documentation :**\n",
    "- **`langgraph-docs`** - Pour interroger la documentation LangGraph\n",
    "- **`pdf-analysis`** - Pour analyser des PDFs\n",
    "\n",
    "### **🛠️ Utilitaires :**\n",
    "- **`mcp-installer`** - Pour installer d'autres serveurs MCP\n",
    "- **`mcp-server-project1`** - Projet personnalisé\n",
    "- **`mcp-server-previsi...`** - Serveur de prévisions (tronqué)\n",
    "- **`mcp-server-project`** - Autre projet\n",
    "\n",
    "## **Réponse à votre question :**\n",
    "\n",
    "Oui, c'est bien **`filesystem`** qui fournit les outils de gestion de fichiers que j'utilise :\n",
    "- `write_file` \n",
    "- `read_file`\n",
    "- `list_directory`\n",
    "- `create_directory`\n",
    "- etc.\n",
    "\n",
    "## **Vous avez une installation très complète !** \n",
    "\n",
    "Avec tous ces serveurs, vous avez accès à :\n",
    "- ✅ Gestion de fichiers\n",
    "- ✅ Bases de données SQLite  \n",
    "- ✅ Recherche web\n",
    "- ✅ Analyse de PDFs\n",
    "- ✅ Météo\n",
    "- ✅ Documentation technique\n",
    "- ✅ Et bien plus !\n",
    "\n",
    "C'est pour ça que j'ai pu facilement créer votre fichier Excel et CSV ! 🚀"
   ]
  },
  {
   "cell_type": "markdown",
   "metadata": {},
   "source": []
  }
 ],
 "metadata": {
  "kernelspec": {
   "display_name": "Python 3",
   "language": "python",
   "name": "python3"
  },
  "language_info": {
   "codemirror_mode": {
    "name": "ipython",
    "version": 3
   },
   "file_extension": ".py",
   "mimetype": "text/x-python",
   "name": "python",
   "nbconvert_exporter": "python",
   "pygments_lexer": "ipython3",
   "version": "3.12.4"
  }
 },
 "nbformat": 4,
 "nbformat_minor": 2
}

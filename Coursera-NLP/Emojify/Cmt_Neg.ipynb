{
 "cells": [
  {
   "cell_type": "code",
   "execution_count": 1,
   "metadata": {},
   "outputs": [],
   "source": [
    "import pandas as pd\n",
    "from sklearn.metrics import confusion_matrix\n",
    "import numpy as np"
   ]
  },
  {
   "cell_type": "code",
   "execution_count": 2,
   "metadata": {},
   "outputs": [],
   "source": [
    "import csv\n",
    "def read_glove_vecs(glove_file ):\n",
    "    with open(glove_file, 'r',encoding ='utf8') as f:\n",
    "        words = set()\n",
    "        word_to_vec_map = {}\n",
    "        for line in f:\n",
    "            line = line.strip().split()\n",
    "            curr_word = line[0]\n",
    "            words.add(curr_word)\n",
    "            word_to_vec_map[curr_word] = np.array(line[1:], dtype=np.float64)\n",
    "        \n",
    "        i = 1\n",
    "        words_to_index = {}\n",
    "        index_to_words = {}\n",
    "        for w in sorted(words):\n",
    "            words_to_index[w] = i\n",
    "            index_to_words[i] = w\n",
    "            i = i + 1\n",
    "    return words_to_index, index_to_words, word_to_vec_map"
   ]
  },
  {
   "cell_type": "code",
   "execution_count": 3,
   "metadata": {},
   "outputs": [],
   "source": [
    " def read_csv(filename):\n",
    "    phrase = []\n",
    "    emoji = []\n",
    "\n",
    "    with open (filename) as csvDataFile:\n",
    "        csvReader = csv.reader(csvDataFile)\n",
    "\n",
    "        for row in csvReader:\n",
    "            phrase.append(row[0])\n",
    "            emoji.append(row[1])\n",
    "\n",
    "    X = np.asarray(phrase)\n",
    "    Y = np.asarray(emoji, dtype=int)\n",
    "\n",
    "    return X, Y\n"
   ]
  },
  {
   "cell_type": "code",
   "execution_count": 4,
   "metadata": {},
   "outputs": [],
   "source": [
    "word_to_index, index_to_word, word_to_vec_map = read_glove_vecs('glove.6B.50d.txt')"
   ]
  },
  {
   "cell_type": "code",
   "execution_count": 53,
   "metadata": {},
   "outputs": [
    {
     "name": "stdout",
     "output_type": "stream",
     "text": [
      "[ 4  0  0  0  9  9  1  0  0  0  4  2  0  3  0  2  7  1  1 10  1  0  0  9\n",
      "  3  5  5  5  9 10  1  3  3  3  9  3  5  5  0  9  5  1  0  0  9  4  4  4\n",
      "  3  4  3  4  2  0  1  2  5  3  3  3  3  4  3  4  0  0  4  0  5  6  6  9\n",
      "  0  6  5  5  6  6  3  5  0  0  9  3  0  0  5  4  0 10  9  6  4  2  0  7\n",
      "  1  4  0  2  6  0  9  0  5  2  9  9  4 10  4  3  5  2  0  0  2  0  4  2\n",
      "  9  2  2  2  4  3  0  9  0  2  2  2]\n"
     ]
    }
   ],
   "source": [
    "X_train, Y_train = read_csv('Cmt_negative.csv')\n",
    "#X_test, Y_test = read_csv('tesss.csv')\n",
    "print(Y_train)"
   ]
  },
  {
   "cell_type": "code",
   "execution_count": 54,
   "metadata": {},
   "outputs": [],
   "source": [
    "def convert_to_one_hot(Y, C):\n",
    "    Y = np.eye(C)[Y.reshape(-1)]\n",
    "    return Y\n"
   ]
  },
  {
   "cell_type": "code",
   "execution_count": 55,
   "metadata": {},
   "outputs": [],
   "source": [
    "Y_oh_train = convert_to_one_hot(Y_train, C = 11)\n",
    "#Y_oh_test = convert_to_one_hot(Y_test, C = 5)"
   ]
  },
  {
   "cell_type": "code",
   "execution_count": 56,
   "metadata": {},
   "outputs": [],
   "source": [
    " \n",
    "Negative_Tags = {\"0\": \"DegLien\",    # :heart: prints a black instead of red heart depending on the font\n",
    "                    \"1\": \"DegEnv\",\n",
    "                    \"2\": \"QVT\",\n",
    "                    \"3\": \"OrgTrav\",\n",
    "                    \"4\": \"PerTps\",\n",
    "                    \"5\": \"Depers\",\n",
    "                    \"6\": \"QuaProd\",\n",
    "                    \"7\": \"RisSan\",\n",
    "                    \"8\": \"NoIncV\",\n",
    "                    \"9\": \"MatDis\",\n",
    "                    \"10\": \"Confid \"}\n",
    "\n",
    " \n",
    "              "
   ]
  },
  {
   "cell_type": "code",
   "execution_count": 57,
   "metadata": {},
   "outputs": [
    {
     "data": {
      "text/plain": [
       "array([[0., 0., 0., ..., 0., 0., 0.],\n",
       "       [1., 0., 0., ..., 0., 0., 0.],\n",
       "       [1., 0., 0., ..., 0., 0., 0.],\n",
       "       ...,\n",
       "       [0., 0., 1., ..., 0., 0., 0.],\n",
       "       [0., 0., 1., ..., 0., 0., 0.],\n",
       "       [0., 0., 1., ..., 0., 0., 0.]])"
      ]
     },
     "execution_count": 57,
     "metadata": {},
     "output_type": "execute_result"
    }
   ],
   "source": [
    " Y_oh_train"
   ]
  },
  {
   "cell_type": "code",
   "execution_count": 42,
   "metadata": {},
   "outputs": [],
   "source": [
    "np.random.seed(0)\n",
    "from tensorflow.keras.models import Model\n",
    "from tensorflow.keras.layers import Dense, Input, Dropout, LSTM, Activation\n",
    "from tensorflow.keras.layers import Conv1D, MaxPooling1D, Embedding\n",
    "from tensorflow.keras.preprocessing import sequence\n",
    "from tensorflow.keras.initializers import glorot_uniform\n",
    "from tensorflow.python.framework import ops\n",
    "ops.get_default_graph()\n",
    "np.random.seed(1)"
   ]
  },
  {
   "cell_type": "code",
   "execution_count": 43,
   "metadata": {},
   "outputs": [
    {
     "name": "stdout",
     "output_type": "stream",
     "text": [
      "0 I\n",
      "1 like\n",
      "2 learning\n"
     ]
    }
   ],
   "source": [
    "for idx, val in enumerate([\"I\", \"like\", \"learning\"]):\n",
    "    print(idx,val)"
   ]
  },
  {
   "cell_type": "code",
   "execution_count": 58,
   "metadata": {},
   "outputs": [],
   "source": [
    "# GRADED FUNCTION: sentences_to_indices\n",
    "\n",
    "def sentences_to_indices(X, word_to_index, max_len):\n",
    "    \"\"\"\n",
    "    Converts an array of sentences (strings) into an array of indices corresponding to words in the sentences.\n",
    "    The output shape should be such that it can be given to `Embedding()` (described in Figure 4). \n",
    "    \n",
    "    Arguments:\n",
    "    X -- array of sentences (strings), of shape (m, 1)\n",
    "    word_to_index -- a dictionary containing the each word mapped to its index\n",
    "    max_len -- maximum number of words in a sentence. You can assume every sentence in X is no longer than this. \n",
    "    \n",
    "    Returns:\n",
    "    X_indices -- array of indices corresponding to words in the sentences from X, of shape (m, max_len)\n",
    "    \"\"\"\n",
    "    \n",
    "    m = X.shape[0]                                   # number of training examples\n",
    "    \n",
    "    ### START CODE HERE ###\n",
    "    # Initialize X_indices as a numpy matrix of zeros and the correct shape (≈ 1 line)\n",
    "    X_indices = np.zeros((m, max_len))\n",
    "    \n",
    "    for i in range(m):                               # loop over training examples\n",
    "        \n",
    "        # Convert the ith training sentence in lower case and split is into words. You should get a list of words.\n",
    "        sentence_words =(X[i].lower()).split()\n",
    "        \n",
    "        # Initialize j to 0\n",
    "        j = 0\n",
    "        \n",
    "        # Loop over the words of sentence_words\n",
    "        for w in sentence_words:\n",
    "            # Set the (i,j)th entry of X_indices to the index of the correct word.\n",
    "            X_indices[i, j] = word_to_index[w]\n",
    "            # Increment j to j + 1\n",
    "            j = j+1\n",
    "            \n",
    "    ### END CODE HERE ###\n",
    "    \n",
    "    return X_indices"
   ]
  },
  {
   "cell_type": "code",
   "execution_count": 59,
   "metadata": {},
   "outputs": [
    {
     "name": "stdout",
     "output_type": "stream",
     "text": [
      "X1 = ['waste of time finding an office with the right connection']\n",
      "X1_indices =\n",
      " [[383684. 268046. 359889. 148433.  54273. 268206. 388711. 357266. 308561.\n",
      "  107431.]]\n"
     ]
    }
   ],
   "source": [
    "X1 = np.array([\"waste of time finding an office with the right connection\"])\n",
    "X1_indices = sentences_to_indices(X1,word_to_index, max_len = 10)\n",
    "print(\"X1 =\", X1)\n",
    "print(\"X1_indices =\\n\", X1_indices)"
   ]
  },
  {
   "cell_type": "code",
   "execution_count": 60,
   "metadata": {},
   "outputs": [],
   "source": [
    "def pretrained_embedding_layer(word_to_vec_map, word_to_index):\n",
    "    \"\"\"\n",
    "    Creates a Keras Embedding() layer and loads in pre-trained GloVe 50-dimensional vectors.\n",
    "    \n",
    "    Arguments:\n",
    "    word_to_vec_map -- dictionary mapping words to their GloVe vector representation.\n",
    "    word_to_index -- dictionary mapping from words to their indices in the vocabulary (400,001 words)\n",
    "\n",
    "    Returns:\n",
    "    embedding_layer -- pretrained layer Keras instance\n",
    "    \"\"\"\n",
    "    \n",
    "    vocab_len = len(word_to_index) + 1                  # adding 1 to fit Keras embedding (requirement)\n",
    "    emb_dim = word_to_vec_map[\"cucumber\"].shape[0]      # define dimensionality of your GloVe word vectors (= 50)\n",
    "    \n",
    "    ### START CODE HERE ###\n",
    "    # Step 1\n",
    "    # Initialize the embedding matrix as a numpy array of zeros.\n",
    "    # See instructions above to choose the correct shape.\n",
    "    emb_matrix = np.zeros((vocab_len,emb_dim))\n",
    "   # print(emb_matrix.shape)\n",
    "    # Step 2\n",
    "    # Set each row \"idx\" of the embedding matrix to be \n",
    "    # the word vector representation of the idx'th word of the vocabulary\n",
    "    for word, idx in word_to_index.items():\n",
    "        emb_matrix[idx, :] = word_to_vec_map[word]\n",
    "\n",
    "    print(\"emb_matrix[1] :\", emb_matrix[1,:])\n",
    "    # Step 3\n",
    "    # Define Keras embedding layer with the correct input and output sizes\n",
    "    # Make it non-trainable.\n",
    "    embedding_layer = Embedding(vocab_len,emb_dim)\n",
    "    ### END CODE HERE ###\n",
    "\n",
    "    # Step 4 (already done for you; please do not modify)\n",
    "    # Build the embedding layer, it is required before setting the weights of the embedding layer. \n",
    "    embedding_layer.build((None,)) # Do not modify the \"None\".  This line of code is complete as-is.\n",
    "    \n",
    "    # Set the weights of the embedding layer to the embedding matrix. Your layer is now pretrained.\n",
    "    embedding_layer.set_weights([emb_matrix])\n",
    "    \n",
    "    return embedding_layer"
   ]
  },
  {
   "cell_type": "code",
   "execution_count": 61,
   "metadata": {},
   "outputs": [
    {
     "name": "stdout",
     "output_type": "stream",
     "text": [
      "emb_matrix[1] : [-0.58402   0.39031   0.65282  -0.3403    0.19493  -0.83489   0.11929\n",
      " -0.57291  -0.56844   0.72989  -0.56975   0.53436  -0.38034   0.22471\n",
      "  0.98031  -0.2966    0.126     0.55222  -0.62737  -0.082242 -0.085359\n",
      "  0.31515   0.96077   0.31986   0.87878  -1.5189   -1.7831    0.35639\n",
      "  0.9674   -1.5497    2.335     0.8494   -1.2371    1.0623   -1.4267\n",
      " -0.49056   0.85465  -1.2878    0.60204  -0.35963   0.28586  -0.052162\n",
      " -0.50818  -0.63459   0.33889   0.28416  -0.2034   -1.2338    0.46715\n",
      "  0.78858 ]\n",
      "weights[0][1][3] = -0.3403\n"
     ]
    }
   ],
   "source": [
    "embedding_layer = pretrained_embedding_layer(word_to_vec_map, word_to_index)\n",
    "\n",
    "print(\"weights[0][1][3] =\", embedding_layer.get_weights()[0][1][3])\n",
    " "
   ]
  },
  {
   "cell_type": "code",
   "execution_count": 62,
   "metadata": {},
   "outputs": [],
   "source": [
    "def Emojify_V2(input_shape, word_to_vec_map, word_to_index):\n",
    "    \"\"\"\n",
    "    Function creating the Emojify-v2 model's graph.\n",
    "    \n",
    "    Arguments:\n",
    "    input_shape -- shape of the input, usually (max_len,)\n",
    "    word_to_vec_map -- dictionary mapping every word in a vocabulary into its 50-dimensional vector representation\n",
    "    word_to_index -- dictionary mapping from words to their indices in the vocabulary (400,001 words)\n",
    "\n",
    "    Returns:\n",
    "    model -- a model instance in Keras\n",
    "    \"\"\"\n",
    "    \n",
    "    ### START CODE HERE ###\n",
    "    # Define sentence_indices as the input of the graph.\n",
    "    # It should be of shape input_shape and dtype 'int32' (as it contains indices, which are integers).\n",
    "    sentence_indices = Input(shape=input_shape, dtype=np.int32)\n",
    "    \n",
    "    # Create the embedding layer pretrained with GloVe Vectors (≈1 line)\n",
    "    embedding_layer = pretrained_embedding_layer(word_to_vec_map, word_to_index)\n",
    "    \n",
    "    # Propagate sentence_indices through your embedding layer\n",
    "    # (See additional hints in the instructions).\n",
    "    eembeddings = embedding_layer(sentence_indices)   \n",
    "    \n",
    "    # Propagate the embeddings through an LSTM layer with 128-dimensional hidden state\n",
    "    # The returned output should be a batch of sequences.\n",
    "    X = LSTM(128, return_sequences=True)(eembeddings)\n",
    "    # Add dropout with a probability of 0.5\n",
    "    X = Dropout(0.5)(X)\n",
    "    # Propagate X trough another LSTM layer with 128-dimensional hidden state\n",
    "    # The returned output should be a single hidden state, not a batch of sequences.\n",
    "    X = LSTM(128)(X)\n",
    "    # Add dropout with a probability of 0.5\n",
    "    X = Dropout(0.5)(X)\n",
    "    # Propagate X through a Dense layer with 5 units\n",
    "    X = Dense(11, activation='softmax')(X)\n",
    "    # Add a softmax activation\n",
    "    X =  Activation('softmax')(X)\n",
    "    \n",
    "    # Create Model instance which converts sentence_indices into X.\n",
    "    model = Model(sentence_indices, X)\n",
    "    \n",
    "    ### END CODE HERE ###\n",
    "    \n",
    "    return model"
   ]
  },
  {
   "cell_type": "code",
   "execution_count": 63,
   "metadata": {},
   "outputs": [
    {
     "name": "stdout",
     "output_type": "stream",
     "text": [
      "emb_matrix[1] : [-0.58402   0.39031   0.65282  -0.3403    0.19493  -0.83489   0.11929\n",
      " -0.57291  -0.56844   0.72989  -0.56975   0.53436  -0.38034   0.22471\n",
      "  0.98031  -0.2966    0.126     0.55222  -0.62737  -0.082242 -0.085359\n",
      "  0.31515   0.96077   0.31986   0.87878  -1.5189   -1.7831    0.35639\n",
      "  0.9674   -1.5497    2.335     0.8494   -1.2371    1.0623   -1.4267\n",
      " -0.49056   0.85465  -1.2878    0.60204  -0.35963   0.28586  -0.052162\n",
      " -0.50818  -0.63459   0.33889   0.28416  -0.2034   -1.2338    0.46715\n",
      "  0.78858 ]\n",
      "Model: \"model_3\"\n",
      "_________________________________________________________________\n",
      "Layer (type)                 Output Shape              Param #   \n",
      "=================================================================\n",
      "input_4 (InputLayer)         [(None, 15)]              0         \n",
      "_________________________________________________________________\n",
      "embedding_6 (Embedding)      (None, 15, 50)            20000050  \n",
      "_________________________________________________________________\n",
      "lstm_6 (LSTM)                (None, 15, 128)           91648     \n",
      "_________________________________________________________________\n",
      "dropout_6 (Dropout)          (None, 15, 128)           0         \n",
      "_________________________________________________________________\n",
      "lstm_7 (LSTM)                (None, 128)               131584    \n",
      "_________________________________________________________________\n",
      "dropout_7 (Dropout)          (None, 128)               0         \n",
      "_________________________________________________________________\n",
      "dense_3 (Dense)              (None, 11)                1419      \n",
      "_________________________________________________________________\n",
      "activation_3 (Activation)    (None, 11)                0         \n",
      "=================================================================\n",
      "Total params: 20,224,701\n",
      "Trainable params: 20,224,701\n",
      "Non-trainable params: 0\n",
      "_________________________________________________________________\n"
     ]
    }
   ],
   "source": [
    "maxLen = 15\n",
    "model = Emojify_V2((maxLen,), word_to_vec_map, word_to_index)\n",
    "model.summary()"
   ]
  },
  {
   "cell_type": "code",
   "execution_count": 64,
   "metadata": {},
   "outputs": [],
   "source": [
    "model.compile(loss='categorical_crossentropy', optimizer='adam', metrics=['accuracy'])"
   ]
  },
  {
   "cell_type": "code",
   "execution_count": 65,
   "metadata": {},
   "outputs": [],
   "source": [
    "X_train_indices = sentences_to_indices(X_train, word_to_index, maxLen)\n",
    "Y_train_oh = convert_to_one_hot(Y_train, C = 11)"
   ]
  },
  {
   "cell_type": "code",
   "execution_count": 77,
   "metadata": {},
   "outputs": [
    {
     "name": "stdout",
     "output_type": "stream",
     "text": [
      "WARNING:tensorflow:From C:\\Users\\jcbouquin\\Anaconda3\\envs\\tensorflow\\lib\\site-packages\\tensorflow_core\\python\\ops\\resource_variable_ops.py:1781: calling BaseResourceVariable.__init__ (from tensorflow.python.ops.resource_variable_ops) with constraint is deprecated and will be removed in a future version.\n",
      "Instructions for updating:\n",
      "If using Keras pass *_constraint arguments to layers.\n",
      "INFO:tensorflow:Assets written to: my_model_cmtneg\\assets\n"
     ]
    }
   ],
   "source": [
    "import tensorflow.keras\n",
    "MonModelNegCmt = model.save('my_model_cmtneg')"
   ]
  },
  {
   "cell_type": "code",
   "execution_count": null,
   "metadata": {},
   "outputs": [],
   "source": [
    "model = tensorflow.keras.models.load_model('my_model_cmtneg')"
   ]
  },
  {
   "cell_type": "code",
   "execution_count": 72,
   "metadata": {},
   "outputs": [
    {
     "name": "stdout",
     "output_type": "stream",
     "text": [
      "Train on 132 samples\n",
      "Epoch 1/75\n",
      "132/132 [==============================] - 2s 13ms/sample - loss: 1.7665 - accuracy: 0.7803\n",
      "Epoch 2/75\n",
      "132/132 [==============================] - 2s 13ms/sample - loss: 1.7551 - accuracy: 0.7955\n",
      "Epoch 3/75\n",
      "132/132 [==============================] - 2s 14ms/sample - loss: 1.7452 - accuracy: 0.8030\n",
      "Epoch 4/75\n",
      "132/132 [==============================] - 2s 14ms/sample - loss: 1.7423 - accuracy: 0.8030\n",
      "Epoch 5/75\n",
      "132/132 [==============================] - 2s 13ms/sample - loss: 1.7420 - accuracy: 0.8030\n",
      "Epoch 6/75\n",
      "132/132 [==============================] - 2s 13ms/sample - loss: 1.7326 - accuracy: 0.8182\n",
      "Epoch 7/75\n",
      "132/132 [==============================] - 2s 13ms/sample - loss: 1.7578 - accuracy: 0.7879\n",
      "Epoch 8/75\n",
      "132/132 [==============================] - 2s 13ms/sample - loss: 1.7376 - accuracy: 0.8106\n",
      "Epoch 9/75\n",
      "132/132 [==============================] - 2s 13ms/sample - loss: 1.7715 - accuracy: 0.7803\n",
      "Epoch 10/75\n",
      "132/132 [==============================] - 2s 13ms/sample - loss: 1.7519 - accuracy: 0.8030\n",
      "Epoch 11/75\n",
      "132/132 [==============================] - 2s 13ms/sample - loss: 1.7385 - accuracy: 0.8030\n",
      "Epoch 12/75\n",
      "132/132 [==============================] - 2s 14ms/sample - loss: 1.8462 - accuracy: 0.7045\n",
      "Epoch 13/75\n",
      "132/132 [==============================] - 2s 15ms/sample - loss: 1.9874 - accuracy: 0.5530\n",
      "Epoch 14/75\n",
      "132/132 [==============================] - 2s 15ms/sample - loss: 2.0540 - accuracy: 0.4924\n",
      "Epoch 15/75\n",
      "132/132 [==============================] - 2s 13ms/sample - loss: 1.9487 - accuracy: 0.6061\n",
      "Epoch 16/75\n",
      "132/132 [==============================] - 2s 13ms/sample - loss: 1.9346 - accuracy: 0.6061\n",
      "Epoch 17/75\n",
      "132/132 [==============================] - 2s 13ms/sample - loss: 1.9219 - accuracy: 0.6212\n",
      "Epoch 18/75\n",
      "132/132 [==============================] - 2s 14ms/sample - loss: 1.9120 - accuracy: 0.6364\n",
      "Epoch 19/75\n",
      "132/132 [==============================] - 2s 13ms/sample - loss: 1.9360 - accuracy: 0.5985\n",
      "Epoch 20/75\n",
      "132/132 [==============================] - 2s 13ms/sample - loss: 1.9029 - accuracy: 0.6364\n",
      "Epoch 21/75\n",
      "132/132 [==============================] - 2s 13ms/sample - loss: 1.9232 - accuracy: 0.6212\n",
      "Epoch 22/75\n",
      "132/132 [==============================] - 2s 14ms/sample - loss: 1.9143 - accuracy: 0.6288\n",
      "Epoch 23/75\n",
      "132/132 [==============================] - 2s 13ms/sample - loss: 1.8958 - accuracy: 0.6439\n",
      "Epoch 24/75\n",
      "132/132 [==============================] - 2s 13ms/sample - loss: 1.8932 - accuracy: 0.6515\n",
      "Epoch 25/75\n",
      "132/132 [==============================] - 2s 13ms/sample - loss: 1.8825 - accuracy: 0.6667\n",
      "Epoch 26/75\n",
      "132/132 [==============================] - 2s 13ms/sample - loss: 1.8761 - accuracy: 0.6667\n",
      "Epoch 27/75\n",
      "132/132 [==============================] - 2s 13ms/sample - loss: 1.8764 - accuracy: 0.6667\n",
      "Epoch 28/75\n",
      "132/132 [==============================] - 2s 13ms/sample - loss: 1.8700 - accuracy: 0.6742\n",
      "Epoch 29/75\n",
      "132/132 [==============================] - 2s 14ms/sample - loss: 1.8766 - accuracy: 0.6667\n",
      "Epoch 30/75\n",
      "132/132 [==============================] - 2s 14ms/sample - loss: 1.8718 - accuracy: 0.6742\n",
      "Epoch 31/75\n",
      "132/132 [==============================] - 2s 15ms/sample - loss: 1.8722 - accuracy: 0.6667\n",
      "Epoch 32/75\n",
      "132/132 [==============================] - 2s 14ms/sample - loss: 1.8658 - accuracy: 0.6818\n",
      "Epoch 33/75\n",
      "132/132 [==============================] - 2s 14ms/sample - loss: 1.8648 - accuracy: 0.6818\n",
      "Epoch 34/75\n",
      "132/132 [==============================] - 2s 14ms/sample - loss: 1.8819 - accuracy: 0.6591\n",
      "Epoch 35/75\n",
      "132/132 [==============================] - 2s 14ms/sample - loss: 1.9143 - accuracy: 0.6288\n",
      "Epoch 36/75\n",
      "132/132 [==============================] - 2s 13ms/sample - loss: 1.9120 - accuracy: 0.6288\n",
      "Epoch 37/75\n",
      "132/132 [==============================] - 2s 13ms/sample - loss: 1.9009 - accuracy: 0.6364\n",
      "Epoch 38/75\n",
      "132/132 [==============================] - 2s 13ms/sample - loss: 1.8950 - accuracy: 0.6364\n",
      "Epoch 39/75\n",
      "132/132 [==============================] - 2s 13ms/sample - loss: 1.8512 - accuracy: 0.6894\n",
      "Epoch 40/75\n",
      "132/132 [==============================] - 2s 14ms/sample - loss: 1.8368 - accuracy: 0.7045\n",
      "Epoch 41/75\n",
      "132/132 [==============================] - 2s 13ms/sample - loss: 1.8253 - accuracy: 0.7197\n",
      "Epoch 42/75\n",
      "132/132 [==============================] - 2s 13ms/sample - loss: 1.7991 - accuracy: 0.7500\n",
      "Epoch 43/75\n",
      "132/132 [==============================] - 2s 13ms/sample - loss: 1.8025 - accuracy: 0.7348\n",
      "Epoch 44/75\n",
      "132/132 [==============================] - 2s 13ms/sample - loss: 1.7868 - accuracy: 0.7576\n",
      "Epoch 45/75\n",
      "132/132 [==============================] - 2s 13ms/sample - loss: 1.7921 - accuracy: 0.7500\n",
      "Epoch 46/75\n",
      "132/132 [==============================] - 2s 13ms/sample - loss: 1.7869 - accuracy: 0.7576\n",
      "Epoch 47/75\n",
      "132/132 [==============================] - 2s 14ms/sample - loss: 1.7853 - accuracy: 0.7576\n",
      "Epoch 48/75\n",
      "132/132 [==============================] - 2s 14ms/sample - loss: 1.7859 - accuracy: 0.7576\n",
      "Epoch 49/75\n",
      "132/132 [==============================] - 2s 14ms/sample - loss: 1.7856 - accuracy: 0.7576\n",
      "Epoch 50/75\n",
      "132/132 [==============================] - 2s 14ms/sample - loss: 1.7838 - accuracy: 0.7576\n",
      "Epoch 51/75\n",
      "132/132 [==============================] - 2s 13ms/sample - loss: 1.7849 - accuracy: 0.7576\n",
      "Epoch 52/75\n",
      "132/132 [==============================] - 2s 13ms/sample - loss: 1.7802 - accuracy: 0.7652\n",
      "Epoch 53/75\n",
      "132/132 [==============================] - 2s 14ms/sample - loss: 1.7805 - accuracy: 0.7652\n",
      "Epoch 54/75\n",
      "132/132 [==============================] - 2s 14ms/sample - loss: 1.7829 - accuracy: 0.7576\n",
      "Epoch 55/75\n",
      "132/132 [==============================] - 2s 13ms/sample - loss: 1.7813 - accuracy: 0.7576\n",
      "Epoch 56/75\n",
      "132/132 [==============================] - 2s 13ms/sample - loss: 1.7815 - accuracy: 0.7652\n",
      "Epoch 57/75\n",
      "132/132 [==============================] - 2s 13ms/sample - loss: 1.7700 - accuracy: 0.7727\n",
      "Epoch 58/75\n",
      "132/132 [==============================] - 2s 14ms/sample - loss: 1.7705 - accuracy: 0.7803\n",
      "Epoch 59/75\n",
      "132/132 [==============================] - 2s 14ms/sample - loss: 1.7698 - accuracy: 0.7727\n",
      "Epoch 60/75\n",
      "132/132 [==============================] - 2s 13ms/sample - loss: 1.7697 - accuracy: 0.7727\n",
      "Epoch 61/75\n",
      "132/132 [==============================] - 2s 13ms/sample - loss: 1.7686 - accuracy: 0.7727\n",
      "Epoch 62/75\n",
      "132/132 [==============================] - 2s 14ms/sample - loss: 1.7717 - accuracy: 0.7727\n",
      "Epoch 63/75\n",
      "132/132 [==============================] - 2s 13ms/sample - loss: 1.7708 - accuracy: 0.7727\n",
      "Epoch 64/75\n",
      "132/132 [==============================] - 2s 13ms/sample - loss: 1.7635 - accuracy: 0.7803\n",
      "Epoch 65/75\n",
      "132/132 [==============================] - 2s 14ms/sample - loss: 1.7601 - accuracy: 0.7803\n",
      "Epoch 66/75\n",
      "132/132 [==============================] - 2s 14ms/sample - loss: 1.7613 - accuracy: 0.7803\n",
      "Epoch 67/75\n",
      "132/132 [==============================] - 2s 14ms/sample - loss: 1.7547 - accuracy: 0.7879\n",
      "Epoch 68/75\n",
      "132/132 [==============================] - 2s 14ms/sample - loss: 1.7625 - accuracy: 0.7803\n",
      "Epoch 69/75\n",
      "132/132 [==============================] - 2s 13ms/sample - loss: 1.7549 - accuracy: 0.7879\n",
      "Epoch 70/75\n",
      "132/132 [==============================] - 2s 13ms/sample - loss: 1.7530 - accuracy: 0.7879\n",
      "Epoch 71/75\n",
      "132/132 [==============================] - 2s 14ms/sample - loss: 1.7696 - accuracy: 0.7727\n",
      "Epoch 72/75\n",
      "132/132 [==============================] - 2s 13ms/sample - loss: 1.7708 - accuracy: 0.7727\n",
      "Epoch 73/75\n",
      "132/132 [==============================] - 2s 13ms/sample - loss: 1.7813 - accuracy: 0.7576\n",
      "Epoch 74/75\n",
      "132/132 [==============================] - 2s 14ms/sample - loss: 1.7618 - accuracy: 0.7879\n",
      "Epoch 75/75\n",
      "132/132 [==============================] - 2s 14ms/sample - loss: 1.7553 - accuracy: 0.7955\n"
     ]
    },
    {
     "data": {
      "text/plain": [
       "<tensorflow.python.keras.callbacks.History at 0x153da6d0488>"
      ]
     },
     "execution_count": 72,
     "metadata": {},
     "output_type": "execute_result"
    }
   ],
   "source": [
    "model.fit(X_train_indices, Y_train_oh, epochs = 75 , batch_size = 29, shuffle=True)"
   ]
  },
  {
   "cell_type": "code",
   "execution_count": 76,
   "metadata": {},
   "outputs": [
    {
     "name": "stdout",
     "output_type": "stream",
     "text": [
      "[[0.07872748 0.07872558 0.07876249 0.21201326 0.07873843 0.07939354\n",
      "  0.07873225 0.07872698 0.07872625 0.07872775 0.07872599]]\n",
      "3\n"
     ]
    }
   ],
   "source": [
    "x_test = np.array(['stress to find a free office'])\n",
    "X_test_indices = sentences_to_indices(x_test, word_to_index, maxLen)\n",
    "#print(x_test[0] +' '+  label_to_emoji(np.argmax(Model_Emojify.predict(X_test_indices))))\n",
    "print( model.predict(X_test_indices))\n",
    "print(np.argmax(model.predict(X_test_indices)))"
   ]
  },
  {
   "cell_type": "code",
   "execution_count": null,
   "metadata": {},
   "outputs": [],
   "source": []
  }
 ],
 "metadata": {
  "kernelspec": {
   "display_name": "Python 3",
   "language": "python",
   "name": "python3"
  },
  "language_info": {
   "codemirror_mode": {
    "name": "ipython",
    "version": 3
   },
   "file_extension": ".py",
   "mimetype": "text/x-python",
   "name": "python",
   "nbconvert_exporter": "python",
   "pygments_lexer": "ipython3",
   "version": "3.7.7"
  }
 },
 "nbformat": 4,
 "nbformat_minor": 4
}

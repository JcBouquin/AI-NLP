{
 "cells": [
  {
   "cell_type": "code",
   "execution_count": null,
   "metadata": {},
   "outputs": [],
   "source": [
    "!pip install -U langgraph langsmith"
   ]
  },
  {
   "cell_type": "code",
   "execution_count": 2,
   "metadata": {},
   "outputs": [],
   "source": [
    "# Warning control\n",
    "import warnings\n",
    "warnings.filterwarnings('ignore')\n",
    " \n",
    "\n",
    " "
   ]
  },
  {
   "cell_type": "markdown",
   "metadata": {},
   "source": [
    "# Système de Dialogue Interactif avec LangGraph\n",
    "\n",
    "## Objectif\n",
    "Ce code implémente un système de chat interactif utilisant LangGraph, permettant une conversation en continu avec un assistant virtuel.\n",
    "\n",
    "## Structure et Fonctionnement\n",
    "\n",
    "### Fonction Principale `stream_graph_updates`\n",
    "- Reçoit les entrées utilisateur\n",
    "- Utilise un graphe LangGraph pour traiter les messages\n",
    "- Affiche les réponses de l'assistant en temps réel via streaming\n",
    "\n",
    "### Boucle Interactive\n",
    "1. Capture les entrées utilisateur en continu\n",
    "2. Gère les commandes de sortie (quit, exit, q)\n",
    "3. Intègre un mécanisme de fallback si l'entrée standard n'est pas disponible\n",
    "  - Utilise une question par défaut : \"Who kill bambi?\"\n",
    "\n",
    "### Gestion des Messages\n",
    "- Format structuré : `{\"role\": \"user\", \"content\": message}`\n",
    "- Affichage des réponses préfixées par \"Assistant:\"\n",
    "\n",
    "## Utilisation\n",
    "Le système fonctionne comme une interface de chat en ligne de commande, permettant une conversation naturelle avec l'assistant jusqu'à ce que l'utilisateur choisisse de quitter."
   ]
  },
  {
   "cell_type": "code",
   "execution_count": 24,
   "metadata": {},
   "outputs": [],
   "source": [
    "import os\n",
    "from langchain_openai import ChatOpenAI  # Notez le changement ici\n",
    "\n",
    "# Définition de la clé API\n",
    "os.environ['OPENAI_API_KEY'] = \"sk-proj-\"\n",
    "\n",
    "# Création du modèle\n",
    "llm = ChatOpenAI(\n",
    "    model=\"gpt-4o-mini\",  # Notez que c'est 'model' et non 'model_name' dans les versions récentes\n",
    "    temperature=0.8\n",
    ")"
   ]
  },
  {
   "cell_type": "code",
   "execution_count": 25,
   "metadata": {},
   "outputs": [],
   "source": [
    "from typing import Annotated\n",
    "\n",
    "from typing_extensions import TypedDict\n",
    "\n",
    "from langgraph.graph import StateGraph, START, END\n",
    "from langgraph.graph.message import add_messages\n",
    "\n",
    "\n",
    "class State(TypedDict):\n",
    "    # Messages have the type \"list\". The `add_messages` function\n",
    "    # in the annotation defines how this state key should be updated\n",
    "    # (in this case, it appends messages to the list, rather than overwriting them)\n",
    "    messages: Annotated[list, add_messages]\n",
    "\n",
    "\n",
    "graph_builder = StateGraph(State)"
   ]
  },
  {
   "cell_type": "code",
   "execution_count": 26,
   "metadata": {},
   "outputs": [
    {
     "data": {
      "text/plain": [
       "<langgraph.graph.state.StateGraph at 0x2422d96fb30>"
      ]
     },
     "execution_count": 26,
     "metadata": {},
     "output_type": "execute_result"
    }
   ],
   "source": [
    "from langchain_anthropic import ChatAnthropic\n",
    "\n",
    "#llm = ChatAnthropic(model=\"claude-3-5-sonnet-20240620\")\n",
    "\n",
    "\n",
    "def chatbot(state: State):\n",
    "    return {\"messages\": [llm.invoke(state[\"messages\"])]}\n",
    "\n",
    "\n",
    "# The first argument is the unique node name\n",
    "# The second argument is the function or object that will be called whenever\n",
    "# the node is used.\n",
    "graph_builder.add_node(\"chatbot\", chatbot)"
   ]
  },
  {
   "cell_type": "code",
   "execution_count": 27,
   "metadata": {},
   "outputs": [
    {
     "data": {
      "text/plain": [
       "<langgraph.graph.state.StateGraph at 0x2422d96fb30>"
      ]
     },
     "execution_count": 27,
     "metadata": {},
     "output_type": "execute_result"
    }
   ],
   "source": [
    "graph_builder.add_edge(START, \"chatbot\")"
   ]
  },
  {
   "cell_type": "code",
   "execution_count": 28,
   "metadata": {},
   "outputs": [
    {
     "data": {
      "text/plain": [
       "<langgraph.graph.state.StateGraph at 0x2422d96fb30>"
      ]
     },
     "execution_count": 28,
     "metadata": {},
     "output_type": "execute_result"
    }
   ],
   "source": [
    "graph_builder.add_edge(\"chatbot\", END)"
   ]
  },
  {
   "cell_type": "code",
   "execution_count": 29,
   "metadata": {},
   "outputs": [],
   "source": [
    "graph = graph_builder.compile()"
   ]
  },
  {
   "cell_type": "code",
   "execution_count": 30,
   "metadata": {},
   "outputs": [
    {
     "data": {
      "image/png": "[encoded data removed]",
      "text/plain": [
       "<IPython.core.display.Image object>"
      ]
     },
     "metadata": {},
     "output_type": "display_data"
    }
   ],
   "source": [
    "from IPython.display import Image, display\n",
    "\n",
    "try:\n",
    "    display(Image(graph.get_graph().draw_mermaid_png()))\n",
    "except Exception:\n",
    "    # This requires some extra dependencies and is optional\n",
    "    pass"
   ]
  },
  {
   "cell_type": "code",
   "execution_count": 31,
   "metadata": {},
   "outputs": [
    {
     "name": "stdout",
     "output_type": "stream",
     "text": [
      "Goodbye!\n"
     ]
    }
   ],
   "source": [
    "def stream_graph_updates(user_input: str):\n",
    "    for event in graph.stream({\"messages\": [{\"role\": \"user\", \"content\": user_input}]}):\n",
    "        for value in event.values():\n",
    "            print(\"Assistant:\", value[\"messages\"][-1].content)\n",
    "\n",
    "\n",
    "while True:\n",
    "    try:\n",
    "        user_input = input(\"User: \")\n",
    "        if user_input.lower() in [\"quit\", \"exit\", \"q\"]:\n",
    "            print(\"Goodbye!\")\n",
    "            break\n",
    "\n",
    "        stream_graph_updates(user_input)\n",
    "    except:\n",
    "        # fallback if input() is not available\n",
    "        user_input = \"Who were roosevelt?\"\n",
    "        print(\"User: \" + user_input)\n",
    "        stream_graph_updates(user_input)\n",
    "        break"
   ]
  },
  {
   "cell_type": "markdown",
   "metadata": {},
   "source": [
    "# Système de Filtrage de Films avec LangGraph\n",
    "\n",
    "## Objectif\n",
    "Ce code implémente un système de filtrage de films en utilisant LangGraph, appliquant une série de filtres (genre et notation) sur une liste de films.\n",
    "\n",
    "## Structure\n",
    "\n",
    "### État du Système (`MovieState`)\n",
    "- Gère trois listes :\n",
    " 1. Films originaux (`movies`)\n",
    " 2. Films filtrés par genre (`genre_filtered`)\n",
    " 3. Films filtrés par notation (`rating_filtered`)\n",
    "\n",
    "### Filtres Implémentés\n",
    "1. **Filtre par Genre** (`filter_by_genre`)\n",
    "  - Cible les films de science-fiction (sci-fi)\n",
    "  - Premier niveau de filtrage\n",
    "\n",
    "2. **Filtre par Notation** (`filter_by_rating`)\n",
    "  - Sélectionne les films avec une note ≥ 8.0\n",
    "  - S'applique sur les résultats du filtre genre\n",
    "\n",
    "### Flux de Données\n",
    "- Utilise `StateGraph` pour définir le parcours :\n",
    " 1. START → Filtre Genre → Filtre Rating → END\n",
    "- Traitement séquentiel garantissant l'ordre des filtres\n",
    "\n",
    "## Exemple d'Utilisation\n",
    "Inclut des données test avec trois films :\n",
    "- Matrix (sci-fi, 8.7)\n",
    "- Inception (sci-fi, 8.8)\n",
    "- Titanic (drama, 7.9)\n",
    "\n",
    "Le système filtre automatiquement pour ne garder que les films de sci-fi bien notés."
   ]
  },
  {
   "cell_type": "code",
   "execution_count": 42,
   "metadata": {},
   "outputs": [],
   "source": [
    "from langgraph.graph import StateGraph\n",
    "from typing import TypedDict, List\n",
    "\n",
    "class MovieState(TypedDict):\n",
    "    movies: List[dict]\n",
    "    genre_filtered: List[dict]\n",
    "    rating_filtered: List[dict]\n",
    "\n",
    "# On doit modifier les fonctions pour prendre l'état uniquement\n",
    "def filter_by_genre(state: MovieState):\n",
    "    target_genre = \"sci-fi\"  # Paramètre fixe\n",
    "    return {\n",
    "        \"genre_filtered\": [\n",
    "            movie for movie in state[\"movies\"] \n",
    "            if movie[\"genre\"] == target_genre\n",
    "        ]\n",
    "    }\n",
    "\n",
    "def filter_by_rating(state: MovieState):\n",
    "    min_rating = 8.0  # Paramètre fixe\n",
    "    return {\n",
    "        \"rating_filtered\": [\n",
    "            movie for movie in state[\"genre_filtered\"] \n",
    "            if movie[\"rating\"] >= min_rating\n",
    "        ]\n",
    "    }\n",
    "\n",
    "\n",
    "# Création du graphe\n",
    "graph = StateGraph(MovieState)\n",
    "\n",
    "# Ajout des nodes de classification\n",
    "graph.add_node(\"genre_filter\", filter_by_genre)\n",
    "graph.add_node(\"rating_filter\", filter_by_rating)\n",
    "\n",
    "graph.add_edge(START, \"genre_filter\")\n",
    "graph.add_edge(\"rating_filter\", END)\n",
    "# Configuration du flux\n",
    "graph.add_edge(\"genre_filter\", \"rating_filter\")\n",
    "\n",
    "# Exemple d'utilisation\n",
    "initial_state = {\n",
    "    \"movies\": [\n",
    "        {\"title\": \"Matrix\", \"genre\": \"sci-fi\", \"rating\": 8.7},\n",
    "        {\"title\": \"Inception\", \"genre\": \"sci-fi\", \"rating\": 8.8},\n",
    "        {\"title\": \"Titanic\", \"genre\": \"drama\", \"rating\": 7.9}\n",
    "    ]\n",
    "}"
   ]
  },
  {
   "cell_type": "code",
   "execution_count": 43,
   "metadata": {},
   "outputs": [],
   "source": [
    "# Compilation du graphe\n",
    "compiled_graph = graph.compile()\n",
    "\n"
   ]
  },
  {
   "cell_type": "code",
   "execution_count": 44,
   "metadata": {},
   "outputs": [
    {
     "data": {
      "image/png": "[encoded data removed]",
      "text/plain": [
       "<IPython.core.display.Image object>"
      ]
     },
     "metadata": {},
     "output_type": "display_data"
    }
   ],
   "source": [
    "from IPython.display import Image, display\n",
    "\n",
    "try:\n",
    "    display(Image(compiled_graph.get_graph().draw_mermaid_png()))\n",
    "except Exception:\n",
    "    # This requires some extra dependencies and is optional\n",
    "    pass"
   ]
  },
  {
   "cell_type": "code",
   "execution_count": 45,
   "metadata": {},
   "outputs": [],
   "source": [
    "# Maintenant on peut lancer\n",
    "results = compiled_graph.invoke({\n",
    "    \"movies\": initial_state[\"movies\"],\n",
    "    \"genre_filtered\": [],\n",
    "    \"rating_filtered\": []\n",
    "})"
   ]
  },
  {
   "cell_type": "code",
   "execution_count": 46,
   "metadata": {},
   "outputs": [
    {
     "name": "stdout",
     "output_type": "stream",
     "text": [
      "Films filtrés:\n",
      "- Matrix (Note: 8.7)\n",
      "- Inception (Note: 8.8)\n"
     ]
    }
   ],
   "source": [
    "print(\"Films filtrés:\")\n",
    "for film in results[\"rating_filtered\"]:\n",
    "   print(f\"- {film['title']} (Note: {film['rating']})\")"
   ]
  },
  {
   "cell_type": "code",
   "execution_count": null,
   "metadata": {},
   "outputs": [],
   "source": []
  },
  {
   "cell_type": "markdown",
   "metadata": {},
   "source": [
    "# Système de Filtrage des Données de Vente Basé sur les Rôles\n",
    "\n",
    "## Objectif\n",
    "Ce code implémente un système de filtrage des données de vente utilisant LangGraph, permettant d'afficher différents niveaux d'information selon le rôle de l'utilisateur.\n",
    "\n",
    "## Structure\n",
    "- Utilise `StateGraph` de LangGraph pour gérer le flux de données\n",
    "- Définit un typage strict avec `SalesState` (TypedDict)\n",
    "- Implémente trois niveaux d'accès :\n",
    "  1. Représentant (ROL_Sales_Rep) : voit uniquement ses ventes\n",
    "  2. Manager District (ROL_District_Manager) : voit les ventes de son district\n",
    "  3. Manager Zone (ROL_Area_Manager) : accès à toutes les ventes\n",
    "\n",
    "## Fonctionnement\n",
    "1. Les données de vente entrantes contiennent : ID du représentant, district, et montant\n",
    "2. La fonction `filter_by_role` filtre les données selon le rôle de l'utilisateur\n",
    "3. Le graphe d'état gère le flux de données : START → filtrage → END\n",
    "\n",
    "## Utilisation\n",
    "Le système est conçu pour s'intégrer dans une application plus large de gestion des ventes, permettant un accès contrôlé aux données selon la hiérarchie de l'utilisateur."
   ]
  },
  {
   "cell_type": "code",
   "execution_count": 19,
   "metadata": {},
   "outputs": [],
   "source": [
    "from langgraph.graph import StateGraph, START, END\n",
    "from typing import TypedDict, List\n",
    "\n",
    "class SalesState(TypedDict):\n",
    "    user_role: str\n",
    "    sales_data: List[dict]\n",
    "    filtered_data: List[dict]\n",
    "\n",
    "def filter_by_role(state: SalesState):\n",
    "    role = state[\"user_role\"]\n",
    "    data = state[\"sales_data\"]\n",
    "    \n",
    "    if role == \"ROL_Sales_Rep\":\n",
    "        # Représentant: voit uniquement ses ventes\n",
    "        filtered = [s for s in data if s[\"rep_id\"] == \"current_user\"]\n",
    "    elif role == \"ROL_District_Manager\":\n",
    "        # Manager district: voit les ventes de son district\n",
    "        filtered = [s for s in data if s[\"district\"] == \"district_1\"]\n",
    "    else:  # ROL_Area_Manager\n",
    "        # Manager zone: voit toutes les ventes\n",
    "        filtered = data\n",
    "        \n",
    "    return {\"filtered_data\": filtered}\n",
    "\n",
    "# Test data\n",
    "sales_data = [\n",
    "    {\"rep_id\": \"current_user\", \"district\": \"district_1\", \"amount\": 1000},\n",
    "    {\"rep_id\": \"other_rep\", \"district\": \"district_1\", \"amount\": 2000},\n",
    "    {\"rep_id\": \"another_rep\", \"district\": \"district_2\", \"amount\": 3000}\n",
    "]\n",
    "\n",
    "# Configuration du graphe\n",
    "graph = StateGraph(SalesState)\n",
    "graph.add_node(\"role_filter\", filter_by_role)\n",
    "graph.add_edge(START, \"role_filter\")\n",
    "graph.add_edge(\"role_filter\", END)\n",
    "\n",
    "# Utilisation\n",
    "compiled = graph.compile()"
   ]
  },
  {
   "cell_type": "code",
   "execution_count": 20,
   "metadata": {},
   "outputs": [
    {
     "data": {
      "image/png": "[encoded data removed]",
      "text/plain": [
       "<IPython.core.display.Image object>"
      ]
     },
     "metadata": {},
     "output_type": "display_data"
    }
   ],
   "source": [
    "from IPython.display import Image, display\n",
    "\n",
    "try:\n",
    "    display(Image(compiled.get_graph().draw_mermaid_png()))\n",
    "except Exception:\n",
    "    # This requires some extra dependencies and is optional\n",
    "    pass"
   ]
  },
  {
   "cell_type": "code",
   "execution_count": 21,
   "metadata": {},
   "outputs": [
    {
     "name": "stdout",
     "output_type": "stream",
     "text": [
      "[{'rep_id': 'current_user', 'district': 'district_1', 'amount': 1000}]\n"
     ]
    }
   ],
   "source": [
    "result = compiled.invoke({\n",
    "    \"user_role\": \"ROL_Sales_Rep\",\n",
    "    \"sales_data\": sales_data,\n",
    "    \"filtered_data\": []\n",
    "})\n",
    "print(result[\"filtered_data\"])"
   ]
  }
 ],
 "metadata": {
  "kernelspec": {
   "display_name": "Python 3",
   "language": "python",
   "name": "python3"
  },
  "language_info": {
   "codemirror_mode": {
    "name": "ipython",
    "version": 3
   },
   "file_extension": ".py",
   "mimetype": "text/x-python",
   "name": "python",
   "nbconvert_exporter": "python",
   "pygments_lexer": "ipython3",
   "version": "3.12.4"
  }
 },
 "nbformat": 4,
 "nbformat_minor": 2
}

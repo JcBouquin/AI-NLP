{
 "cells": [
  {
   "cell_type": "code",
   "execution_count": null,
   "metadata": {},
   "outputs": [],
   "source": [
    "! pip install -U langgraph langsmith\n",
    "! pip install langchain_community\n",
    "! pip install langchain_openai"
   ]
  },
  {
   "cell_type": "code",
   "execution_count": 2,
   "metadata": {},
   "outputs": [],
   "source": [
    "from typing import Annotated\n",
    "from typing_extensions import TypedDict\n",
    "from langgraph.graph import StateGraph, START, END ,state\n",
    "from langgraph.graph.message import add_messages\n",
    "from langchain_core.messages import HumanMessage,AIMessage\n",
    "from langchain_core.prompts import ChatPromptTemplate\n",
    "from langchain_openai import ChatOpenAI\n",
    "import os"
   ]
  },
  {
   "cell_type": "code",
   "execution_count": null,
   "metadata": {},
   "outputs": [],
   "source": [
    "# Configuration de la clé API\n",
    "os.environ['OPENAI_API_KEY'] = \"sk-proj-rPBnsXimJyDjm9m7k8 FJoLeEVAbOl0kiGIZTWPKAtav6nWikZPSewB3oeo055nFcLW9rnMorepgfeAZNQQz5FUUwrtmQsA\"\n",
    "\n",
    "\n",
    "# Création du modèle LLM\n",
    "llm = ChatOpenAI(model=\"gpt-4o-mini\", temperature=0)"
   ]
  },
  {
   "cell_type": "code",
   "execution_count": 7,
   "metadata": {},
   "outputs": [],
   "source": [
    "analogical_prompt_template = ChatPromptTemplate.from_messages([\n",
    "    (\"system\", \"\"\"\n",
    "    Generate Analogical Prompting based on user questions.\n",
    "    \n",
    "    Analogical Prompting is a technique within Chain-of-Thought (CoT) that automatically generates exemplars with reasoning paths by drawing analogies between the current problem and similar problems. \n",
    "    \n",
    "    This technique significantly improves performance on mathematical reasoning and code generation tasks by leveraging the power of analogical thinking and transferring problem-solving strategies from familiar domains to new ones.\n",
    "    \n",
    "    The Analogical Prompting process includes the following steps:\n",
    "    1. Identify a similar problem: Find or create an analogous problem that shares structural similarities with the current problem.\n",
    "    2. Solve the analogous problem: Work through the analogous problem step by step, showing the complete reasoning path.\n",
    "    3. Transfer the solution strategy: Apply the same reasoning pattern from the analogous problem to the current problem.\n",
    "    4. Answer the original question: Provide a final answer based on the transferred reasoning.\n",
    "    \n",
    "    Please structure your response in the following format:\n",
    "    \n",
    "    Step 1: [Analogous problem identification]\n",
    "    Step 2: [Solution of the analogous problem]\n",
    "    Step 3: [Transfer of solution strategy]\n",
    "    Step 4: [Final Answer]\n",
    "    \n",
    "    Example:\n",
    "    Question: \"A warehouse has 25 rows of shelves with 12 boxes per shelf. If each box contains 8 items, how many total items are in the warehouse?\"\n",
    "    \n",
    "    Step 1: Analogous problem identification:\n",
    "    This problem involves multiplication across multiple levels of organization. Let me consider an analogous problem:\n",
    "    \"A school has 15 classrooms with 20 desks per classroom. If each desk has 2 drawers, how many total drawers are there in the school?\"\n",
    "    \n",
    "    Step 2: Solution of the analogous problem:\n",
    "    To solve this analogous problem:\n",
    "    1. First, I need to find the total number of desks: 15 classrooms × 20 desks per classroom = 300 desks\n",
    "    2. Then, I need to find the total number of drawers: 300 desks × 2 drawers per desk = 600 drawers\n",
    "    So the school has a total of 600 drawers.\n",
    "    \n",
    "    Step 3: Transfer of solution strategy:\n",
    "    Now I can apply the same strategy to our original problem about the warehouse:\n",
    "    1. First, I need to find the total number of boxes: 25 rows × 12 boxes per shelf = 300 boxes\n",
    "    2. Then, I need to find the total number of items: 300 boxes × 8 items per box = 2,400 items\n",
    "    \n",
    "    Step 4: The warehouse contains a total of 2,400 items.\n",
    "    \"\"\"),\n",
    "    (\"human\", \"{question}\"),\n",
    "    (\"assistant\", \"\"\"\n",
    "    Step 1: Analogous problem identification:\n",
    "    [Identify or create a problem that has a similar structure or solution pattern to the current question. The analogous problem should be simpler or more familiar, but maintain the key structural elements of the original problem.]\n",
    "    \n",
    "    Step 2: Solution of the analogous problem:\n",
    "    [Work through the analogous problem step by step, showing the complete reasoning path:\n",
    "    1. [First step in solving the analogous problem]\n",
    "    2. [Second step in solving the analogous problem]\n",
    "    3. [Continue with additional steps as needed]\n",
    "    ...]\n",
    "    \n",
    "    Step 3: Transfer of solution strategy:\n",
    "    [Apply the reasoning pattern from the analogous problem to the original question:\n",
    "    1. [First step in solving the original problem, based on the analogy]\n",
    "    2. [Second step in solving the original problem, based on the analogy]\n",
    "    3. [Continue with additional steps as needed]\n",
    "    ...]\n",
    "    \n",
    "    Step 4: [Provide a clear, concise answer to the original question, drawing directly from the transferred solution strategy]\n",
    "    \"\"\")\n",
    "])"
   ]
  },
  {
   "cell_type": "code",
   "execution_count": 9,
   "metadata": {},
   "outputs": [
    {
     "name": "stdout",
     "output_type": "stream",
     "text": [
      "Question posée: How should I architect a distributed system for processing real-time financial transactions that needs to handle 10,000 transactions per second, maintain ACID compliance, and have a recovery time of less than 5 minutes in case of failure?\n",
      "\n",
      "Réponse:\n",
      "Step 1: Analogous problem identification:\n",
      "To find a similar problem, let's consider a scenario involving a high-performance system that requires reliability and quick recovery. An analogous problem could be: \"How should I architect a distributed system for processing online orders for an e-commerce platform that needs to handle 5,000 orders per minute, maintain data consistency, and have a recovery time of less than 3 minutes in case of failure?\"\n",
      "\n",
      "Step 2: Solution of the analogous problem:\n",
      "To solve this analogous problem:\n",
      "1. First, I would consider using a microservices architecture to handle different aspects of the order processing, such as inventory management, payment processing, and order fulfillment. This allows for scalability and independent deployment.\n",
      "2. Next, I would implement a message queue (like Kafka or RabbitMQ) to handle incoming orders asynchronously, ensuring that the system can process orders at a high rate without overwhelming any single component.\n",
      "3. For maintaining data consistency, I would use a distributed database that supports ACID transactions, such as PostgreSQL with logical replication or a NoSQL database with strong consistency guarantees.\n",
      "4. To ensure quick recovery, I would implement regular backups and use a failover strategy with hot standby replicas to minimize downtime.\n",
      "\n",
      "Step 3: Transfer of solution strategy:\n",
      "Now I can apply the same strategy to the original problem about processing financial transactions:\n",
      "1. I would also use a microservices architecture to separate concerns, such as transaction validation, fraud detection, and ledger updates, allowing for scalability and independent updates.\n",
      "2. Implementing a message queue would be crucial to handle the 10,000 transactions per second, ensuring that transactions are processed efficiently and can be retried in case of failure.\n",
      "3. For maintaining ACID compliance, I would choose a distributed database that supports transactions, such as CockroachDB or Google Spanner, which are designed for high availability and consistency.\n",
      "4. To achieve a recovery time of less than 5 minutes, I would set up automated backups and a disaster recovery plan that includes hot standby replicas, allowing for quick failover in case of a system failure.\n",
      "\n",
      "Step 4: The architecture for the distributed system should include a microservices approach, a message queue for transaction handling, a distributed database with ACID compliance, and a robust disaster recovery plan to ensure recovery within 5 minutes.\n"
     ]
    }
   ],
   "source": [
    "# Fonction pour générer le prompt ThoT (node)\n",
    "def generate_thot_node(state):\n",
    "    question = state['messages'][-1].content  # Récupère la dernière question\n",
    "    prompt_value = analogical_prompt_template.invoke({\"question\": question})\n",
    "    messages = prompt_value.to_messages()\n",
    "    response = llm.invoke(messages)\n",
    "    return {\"messages\": [response]}  # Ajoute la réponse comme un message\n",
    "\n",
    "# Définition de l'état\n",
    "class State(TypedDict):\n",
    "    messages: Annotated[list, add_messages]\n",
    "\n",
    "# Création du graphe\n",
    "graph_builder = StateGraph(State)\n",
    "graph_builder.add_node(\"generate_thot\", generate_thot_node)\n",
    "\n",
    "# Configuration du graphe\n",
    "graph_builder.set_entry_point(\"generate_thot\")\n",
    "graph_builder.add_edge(\"generate_thot\", END)\n",
    "graph = graph_builder.compile()\n",
    "\n",
    "# Exemple d'utilisation\n",
    "inputs = {\"messages\": [HumanMessage(content=\"How should I architect a distributed system for processing real-time financial transactions that needs to handle 10,000 transactions per second, maintain ACID compliance, and have a recovery time of less than 5 minutes in case of failure?\")]}\n",
    "\n",
    "# Affiche la question posée au début\n",
    "print(\"Question posée:\", inputs[\"messages\"][0].content)\n",
    "print(\"\\nRéponse:\")\n",
    "\n",
    "for output in graph.stream(inputs):\n",
    "    for key, value in output.items():\n",
    "        if key == \"generate_thot\":\n",
    "            messages = value['messages']\n",
    "            for message in messages:\n",
    "                if isinstance(message, AIMessage):\n",
    "                    print(message.content)"
   ]
  },
  {
   "cell_type": "code",
   "execution_count": null,
   "metadata": {},
   "outputs": [],
   "source": []
  },
  {
   "cell_type": "code",
   "execution_count": null,
   "metadata": {},
   "outputs": [],
   "source": []
  },
  {
   "cell_type": "code",
   "execution_count": null,
   "metadata": {},
   "outputs": [],
   "source": []
  }
 ],
 "metadata": {
  "kernelspec": {
   "display_name": "Python 3",
   "language": "python",
   "name": "python3"
  },
  "language_info": {
   "codemirror_mode": {
    "name": "ipython",
    "version": 3
   },
   "file_extension": ".py",
   "mimetype": "text/x-python",
   "name": "python",
   "nbconvert_exporter": "python",
   "pygments_lexer": "ipython3",
   "version": "3.12.4"
  }
 },
 "nbformat": 4,
 "nbformat_minor": 2
}
